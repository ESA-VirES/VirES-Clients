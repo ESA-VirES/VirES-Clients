{
 "cells": [
  {
   "cell_type": "markdown",
   "metadata": {},
   "source": [
    "# General example"
   ]
  },
  {
   "cell_type": "markdown",
   "metadata": {},
   "source": [
    "### Connect to the server\n",
    "\n",
    "You need a username and password to connect to the server. You can enter these in the code directly:"
   ]
  },
  {
   "cell_type": "code",
   "execution_count": 1,
   "metadata": {},
   "outputs": [],
   "source": [
    "from viresclient import SwarmRequest\n",
    "\n",
    "request = SwarmRequest(url=\"https://staging.viresdisc.vires.services/openows\",\n",
    "                       username=\"your username\",\n",
    "                       password=\"your password\")"
   ]
  },
  {
   "cell_type": "markdown",
   "metadata": {},
   "source": [
    "When these credentials have already been entered, you don't need to supply them again. Your username and password have now been stored (unencrypted!) in a configuration file in your home directory: ``~/.viresclient.ini``. You can update them simply by calling ``SwarmRequest()`` again with new inputs."
   ]
  },
  {
   "cell_type": "markdown",
   "metadata": {},
   "source": [
    "### Choose and download data\n",
    "\n",
    "Select a combination of variables and fetch data from one day.\n",
    "\n",
    "Resample to one measurement per 10s; filter for the Northern Hemisphere."
   ]
  },
  {
   "cell_type": "code",
   "execution_count": 2,
   "metadata": {},
   "outputs": [
    {
     "name": "stderr",
     "output_type": "stream",
     "text": [
      "[1/1] Processing:  100%|██████████|  [ Elapsed: 00:02, Remaining: 00:00 ]\n",
      "      Downloading: 100%|██████████|  [ Elapsed: 00:00, Remaining: 00:00 ] (0.766MB)\n"
     ]
    }
   ],
   "source": [
    "from viresclient import SwarmRequest\n",
    "import datetime as dt\n",
    "\n",
    "request = SwarmRequest(url=\"https://staging.viresdisc.vires.services/openows\")\n",
    "\n",
    "request.set_collection(\"SW_OPER_MAGA_LR_1B\")\n",
    "\n",
    "request.set_products(measurements=[\"F\",\"B_NEC\"],\n",
    "                     models=[\"MCO_SHA_2C\", \"MMA_SHA_2C-Primary\", \"MMA_SHA_2C-Secondary\"],\n",
    "                     auxiliaries=[\"QDLat\", \"QDLon\"],\n",
    "                     residuals=False,\n",
    "                     sampling_step=\"PT10S\")\n",
    "\n",
    "request.set_range_filter(parameter=\"Latitude\",\n",
    "                         minimum=0,\n",
    "                         maximum=90)\n",
    "\n",
    "data = request.get_between(start_time=dt.datetime(2016,1,1),\n",
    "                           end_time=dt.datetime(2016,1,2))"
   ]
  },
  {
   "cell_type": "markdown",
   "metadata": {},
   "source": [
    "### Save the data directly\n",
    "\n",
    "You can save the generated data file directly then open it using other software."
   ]
  },
  {
   "cell_type": "code",
   "execution_count": 3,
   "metadata": {},
   "outputs": [
    {
     "name": "stdout",
     "output_type": "stream",
     "text": [
      "Data written to testfile.cdf\n"
     ]
    }
   ],
   "source": [
    "data.to_file('testfile.cdf')"
   ]
  },
  {
   "cell_type": "markdown",
   "metadata": {},
   "source": [
    "### Convert to a pandas DataFrame"
   ]
  },
  {
   "cell_type": "code",
   "execution_count": 4,
   "metadata": {},
   "outputs": [
    {
     "data": {
      "text/html": [
       "<div>\n",
       "<table border=\"1\" class=\"dataframe\">\n",
       "  <thead>\n",
       "    <tr style=\"text-align: right;\">\n",
       "      <th></th>\n",
       "      <th>B_NEC</th>\n",
       "      <th>B_NEC_MCO_SHA_2C</th>\n",
       "      <th>B_NEC_MMA_SHA_2C-Primary</th>\n",
       "      <th>B_NEC_MMA_SHA_2C-Secondary</th>\n",
       "      <th>F</th>\n",
       "      <th>F_MCO_SHA_2C</th>\n",
       "      <th>F_MMA_SHA_2C-Primary</th>\n",
       "      <th>F_MMA_SHA_2C-Secondary</th>\n",
       "      <th>Latitude</th>\n",
       "      <th>Longitude</th>\n",
       "      <th>QDLat</th>\n",
       "      <th>QDLon</th>\n",
       "      <th>Radius</th>\n",
       "      <th>Spacecraft</th>\n",
       "    </tr>\n",
       "    <tr>\n",
       "      <th>Timestamp</th>\n",
       "      <th></th>\n",
       "      <th></th>\n",
       "      <th></th>\n",
       "      <th></th>\n",
       "      <th></th>\n",
       "      <th></th>\n",
       "      <th></th>\n",
       "      <th></th>\n",
       "      <th></th>\n",
       "      <th></th>\n",
       "      <th></th>\n",
       "      <th></th>\n",
       "      <th></th>\n",
       "      <th></th>\n",
       "    </tr>\n",
       "  </thead>\n",
       "  <tbody>\n",
       "    <tr>\n",
       "      <th>2016-01-01 00:28:00</th>\n",
       "      <td>[23432.0698, 2929.1195000000002, 7001.0706]</td>\n",
       "      <td>[23605.90473830581, 2931.6376573093767, 7003.2...</td>\n",
       "      <td>[-126.91532798907662, -5.6198964252082355, 17....</td>\n",
       "      <td>[-33.09016927969169, -1.7093996086641592, -6.8...</td>\n",
       "      <td>24630.6298</td>\n",
       "      <td>24796.748750</td>\n",
       "      <td>128.250015</td>\n",
       "      <td>33.843027</td>\n",
       "      <td>0.197610</td>\n",
       "      <td>-102.681841</td>\n",
       "      <td>8.425159</td>\n",
       "      <td>-30.812750</td>\n",
       "      <td>6828390.61</td>\n",
       "      <td>A</td>\n",
       "    </tr>\n",
       "    <tr>\n",
       "      <th>2016-01-01 00:28:10</th>\n",
       "      <td>[23450.916100000002, 2900.0733, 7554.7711]</td>\n",
       "      <td>[23624.47275153368, 2902.82041629198, 7556.563...</td>\n",
       "      <td>[-126.72131580143507, -5.5793404901198125, 19....</td>\n",
       "      <td>[-33.089430547649556, -1.6811466971580775, -7....</td>\n",
       "      <td>24808.1068</td>\n",
       "      <td>24972.859780</td>\n",
       "      <td>128.305090</td>\n",
       "      <td>34.025930</td>\n",
       "      <td>0.838157</td>\n",
       "      <td>-102.693946</td>\n",
       "      <td>9.068963</td>\n",
       "      <td>-30.902256</td>\n",
       "      <td>6828288.87</td>\n",
       "      <td>A</td>\n",
       "    </tr>\n",
       "    <tr>\n",
       "      <th>2016-01-01 00:28:20</th>\n",
       "      <td>[23465.5579, 2872.2875000000004, 8110.08480000...</td>\n",
       "      <td>[23638.81245985172, 2874.59744914569, 8111.724...</td>\n",
       "      <td>[-126.50108249657657, -5.538713843992417, 21.0...</td>\n",
       "      <td>[-33.08040682359359, -1.653116949429096, -8.60...</td>\n",
       "      <td>24993.3690</td>\n",
       "      <td>25156.646166</td>\n",
       "      <td>128.357507</td>\n",
       "      <td>34.221683</td>\n",
       "      <td>1.478724</td>\n",
       "      <td>-102.706041</td>\n",
       "      <td>9.713511</td>\n",
       "      <td>-30.990784</td>\n",
       "      <td>6828186.32</td>\n",
       "      <td>A</td>\n",
       "    </tr>\n",
       "    <tr>\n",
       "      <th>2016-01-01 00:28:30</th>\n",
       "      <td>[23476.096100000002, 2844.6195000000002, 8666....</td>\n",
       "      <td>[23648.85230986529, 2846.960888233475, 8668.59...</td>\n",
       "      <td>[-126.2546612277731, -5.4980200665725025, 22.7...</td>\n",
       "      <td>[-33.06303949938177, -1.6253091491888805, -9.4...</td>\n",
       "      <td>25186.2222</td>\n",
       "      <td>25347.936846</td>\n",
       "      <td>128.407260</td>\n",
       "      <td>34.430033</td>\n",
       "      <td>2.119308</td>\n",
       "      <td>-102.718118</td>\n",
       "      <td>10.358768</td>\n",
       "      <td>-31.078363</td>\n",
       "      <td>6828082.97</td>\n",
       "      <td>A</td>\n",
       "    </tr>\n",
       "    <tr>\n",
       "      <th>2016-01-01 00:28:40</th>\n",
       "      <td>[23482.2611, 2817.4788000000003, 9225.42960000...</td>\n",
       "      <td>[23654.524148541142, 2819.9042242487117, 9227....</td>\n",
       "      <td>[-125.98209353284206, -5.457262630766026, 24.4...</td>\n",
       "      <td>[-33.03727353768437, -1.5977218864183431, -10....</td>\n",
       "      <td>25386.4754</td>\n",
       "      <td>25546.550658</td>\n",
       "      <td>128.454343</td>\n",
       "      <td>34.650704</td>\n",
       "      <td>2.759911</td>\n",
       "      <td>-102.730169</td>\n",
       "      <td>11.004701</td>\n",
       "      <td>-31.165012</td>\n",
       "      <td>6827978.83</td>\n",
       "      <td>A</td>\n",
       "    </tr>\n",
       "  </tbody>\n",
       "</table>\n",
       "</div>"
      ],
      "text/plain": [
       "                                                                 B_NEC  \\\n",
       "Timestamp                                                                \n",
       "2016-01-01 00:28:00        [23432.0698, 2929.1195000000002, 7001.0706]   \n",
       "2016-01-01 00:28:10         [23450.916100000002, 2900.0733, 7554.7711]   \n",
       "2016-01-01 00:28:20  [23465.5579, 2872.2875000000004, 8110.08480000...   \n",
       "2016-01-01 00:28:30  [23476.096100000002, 2844.6195000000002, 8666....   \n",
       "2016-01-01 00:28:40  [23482.2611, 2817.4788000000003, 9225.42960000...   \n",
       "\n",
       "                                                      B_NEC_MCO_SHA_2C  \\\n",
       "Timestamp                                                                \n",
       "2016-01-01 00:28:00  [23605.90473830581, 2931.6376573093767, 7003.2...   \n",
       "2016-01-01 00:28:10  [23624.47275153368, 2902.82041629198, 7556.563...   \n",
       "2016-01-01 00:28:20  [23638.81245985172, 2874.59744914569, 8111.724...   \n",
       "2016-01-01 00:28:30  [23648.85230986529, 2846.960888233475, 8668.59...   \n",
       "2016-01-01 00:28:40  [23654.524148541142, 2819.9042242487117, 9227....   \n",
       "\n",
       "                                              B_NEC_MMA_SHA_2C-Primary  \\\n",
       "Timestamp                                                                \n",
       "2016-01-01 00:28:00  [-126.91532798907662, -5.6198964252082355, 17....   \n",
       "2016-01-01 00:28:10  [-126.72131580143507, -5.5793404901198125, 19....   \n",
       "2016-01-01 00:28:20  [-126.50108249657657, -5.538713843992417, 21.0...   \n",
       "2016-01-01 00:28:30  [-126.2546612277731, -5.4980200665725025, 22.7...   \n",
       "2016-01-01 00:28:40  [-125.98209353284206, -5.457262630766026, 24.4...   \n",
       "\n",
       "                                            B_NEC_MMA_SHA_2C-Secondary  \\\n",
       "Timestamp                                                                \n",
       "2016-01-01 00:28:00  [-33.09016927969169, -1.7093996086641592, -6.8...   \n",
       "2016-01-01 00:28:10  [-33.089430547649556, -1.6811466971580775, -7....   \n",
       "2016-01-01 00:28:20  [-33.08040682359359, -1.653116949429096, -8.60...   \n",
       "2016-01-01 00:28:30  [-33.06303949938177, -1.6253091491888805, -9.4...   \n",
       "2016-01-01 00:28:40  [-33.03727353768437, -1.5977218864183431, -10....   \n",
       "\n",
       "                              F  F_MCO_SHA_2C  F_MMA_SHA_2C-Primary  \\\n",
       "Timestamp                                                             \n",
       "2016-01-01 00:28:00  24630.6298  24796.748750            128.250015   \n",
       "2016-01-01 00:28:10  24808.1068  24972.859780            128.305090   \n",
       "2016-01-01 00:28:20  24993.3690  25156.646166            128.357507   \n",
       "2016-01-01 00:28:30  25186.2222  25347.936846            128.407260   \n",
       "2016-01-01 00:28:40  25386.4754  25546.550658            128.454343   \n",
       "\n",
       "                     F_MMA_SHA_2C-Secondary  Latitude   Longitude      QDLat  \\\n",
       "Timestamp                                                                      \n",
       "2016-01-01 00:28:00               33.843027  0.197610 -102.681841   8.425159   \n",
       "2016-01-01 00:28:10               34.025930  0.838157 -102.693946   9.068963   \n",
       "2016-01-01 00:28:20               34.221683  1.478724 -102.706041   9.713511   \n",
       "2016-01-01 00:28:30               34.430033  2.119308 -102.718118  10.358768   \n",
       "2016-01-01 00:28:40               34.650704  2.759911 -102.730169  11.004701   \n",
       "\n",
       "                         QDLon      Radius Spacecraft  \n",
       "Timestamp                                              \n",
       "2016-01-01 00:28:00 -30.812750  6828390.61          A  \n",
       "2016-01-01 00:28:10 -30.902256  6828288.87          A  \n",
       "2016-01-01 00:28:20 -30.990784  6828186.32          A  \n",
       "2016-01-01 00:28:30 -31.078363  6828082.97          A  \n",
       "2016-01-01 00:28:40 -31.165012  6827978.83          A  "
      ]
     },
     "execution_count": 4,
     "metadata": {},
     "output_type": "execute_result"
    }
   ],
   "source": [
    "df = data.as_dataframe()\n",
    "df.head()"
   ]
  },
  {
   "cell_type": "markdown",
   "metadata": {},
   "source": [
    "#### Extract numpy arrays\n",
    "\n",
    "Individual entries (rows) in multi-dimensional variables (e.g. B_NEC) are currently stored as lists so they need to be as extracted as arrays to do array operations. This behaviour will likely change in the future to provide \"flat\" dataframes instead (i.e. the B_NEC column expanded as three columns: B_N, B_E, B_C, etc)"
   ]
  },
  {
   "cell_type": "code",
   "execution_count": 5,
   "metadata": {},
   "outputs": [
    {
     "data": {
      "text/plain": [
       "(array([23432.0698, 23450.9161, 23465.5579, ..., 19454.1593, 19270.8571,\n",
       "        19083.8857]),\n",
       " array([2929.1195, 2900.0733, 2872.2875, ...,  825.3428,  809.5323,\n",
       "         793.5203]),\n",
       " array([ 7001.0706,  7554.7711,  8110.0848, ..., 32625.3874, 33094.8776,\n",
       "        33559.6071]))"
      ]
     },
     "execution_count": 5,
     "metadata": {},
     "output_type": "execute_result"
    }
   ],
   "source": [
    "import numpy as np\n",
    "\n",
    "B_NEC = np.stack(df['B_NEC'].values)\n",
    "X,Y,Z = (B_NEC[:,i] for i in (0,1,2))\n",
    "X,Y,Z"
   ]
  },
  {
   "cell_type": "markdown",
   "metadata": {},
   "source": [
    "Pandas dataframes are not so good when we have higher-dimensional data, hence the motivation to use xarray: <http://xarray.pydata.org/en/stable/faq.html#why-is-pandas-not-enough>"
   ]
  },
  {
   "cell_type": "markdown",
   "metadata": {},
   "source": [
    "### Convert to an xarray Dataset"
   ]
  },
  {
   "cell_type": "code",
   "execution_count": 6,
   "metadata": {},
   "outputs": [
    {
     "data": {
      "text/plain": [
       "<xarray.Dataset>\n",
       "Dimensions:                     (Timestamp: 4256, dim: 3)\n",
       "Coordinates:\n",
       "  * Timestamp                   (Timestamp) datetime64[ns] 2016-01-01T00:28:00 ...\n",
       "Dimensions without coordinates: dim\n",
       "Data variables:\n",
       "    Spacecraft                  (Timestamp) <U1 'A' 'A' 'A' 'A' 'A' 'A' 'A' ...\n",
       "    Latitude                    (Timestamp) float64 0.1976 0.8382 1.479 ...\n",
       "    Longitude                   (Timestamp) float64 -102.7 -102.7 -102.7 ...\n",
       "    Radius                      (Timestamp) float64 6.828e+06 6.828e+06 ...\n",
       "    F                           (Timestamp) float64 2.463e+04 2.481e+04 ...\n",
       "    B_NEC                       (Timestamp, dim) float64 2.343e+04 2.929e+03 ...\n",
       "    F_MCO_SHA_2C                (Timestamp) float64 2.48e+04 2.497e+04 ...\n",
       "    B_NEC_MCO_SHA_2C            (Timestamp, dim) float64 2.361e+04 2.932e+03 ...\n",
       "    F_MMA_SHA_2C-Primary        (Timestamp) float64 128.3 128.3 128.4 128.4 ...\n",
       "    B_NEC_MMA_SHA_2C-Primary    (Timestamp, dim) float64 -126.9 -5.62 17.58 ...\n",
       "    F_MMA_SHA_2C-Secondary      (Timestamp) float64 33.84 34.03 34.22 34.43 ...\n",
       "    B_NEC_MMA_SHA_2C-Secondary  (Timestamp, dim) float64 -33.09 -1.709 -6.89 ...\n",
       "    QDLat                       (Timestamp) float64 8.425 9.069 9.714 10.36 ...\n",
       "    QDLon                       (Timestamp) float64 -30.81 -30.9 -30.99 ..."
      ]
     },
     "execution_count": 6,
     "metadata": {},
     "output_type": "execute_result"
    }
   ],
   "source": [
    "ds = data.as_xarray()\n",
    "ds"
   ]
  },
  {
   "cell_type": "markdown",
   "metadata": {},
   "source": [
    "Extracting numpy arrays from xarray:"
   ]
  },
  {
   "cell_type": "code",
   "execution_count": 7,
   "metadata": {},
   "outputs": [
    {
     "data": {
      "text/plain": [
       "(array([23432.0698, 23450.9161, 23465.5579, ..., 19454.1593, 19270.8571,\n",
       "        19083.8857]),\n",
       " array([2929.1195, 2900.0733, 2872.2875, ...,  825.3428,  809.5323,\n",
       "         793.5203]),\n",
       " array([ 7001.0706,  7554.7711,  8110.0848, ..., 32625.3874, 33094.8776,\n",
       "        33559.6071]))"
      ]
     },
     "execution_count": 7,
     "metadata": {},
     "output_type": "execute_result"
    }
   ],
   "source": [
    "X,Y,Z = (ds[\"B_NEC\"][:,i].values for i in (0,1,2))\n",
    "X,Y,Z"
   ]
  },
  {
   "cell_type": "markdown",
   "metadata": {},
   "source": [
    "### Work on xarray objects directly\n",
    "\n",
    "Calculate the custom residual $B_{res} = B_{obs} - B_{MCO} - B_{MMA}$ and plot the Z component against time"
   ]
  },
  {
   "cell_type": "code",
   "execution_count": 8,
   "metadata": {},
   "outputs": [
    {
     "data": {
      "text/plain": [
       "<xarray.DataArray (Timestamp: 4256, dim: 3)>\n",
       "array([[-13.829441,   4.811139, -12.867523],\n",
       "       [-13.745905,   4.513371, -13.351697],\n",
       "       [-13.673071,   4.881882, -14.067758],\n",
       "       ...,\n",
       "       [  0.58677 ,  -1.772758,  -4.235812],\n",
       "       [  1.096503,  -2.327229,  -4.433677],\n",
       "       [  2.135158,  -3.167922,  -4.39485 ]])\n",
       "Coordinates:\n",
       "  * Timestamp  (Timestamp) datetime64[ns] 2016-01-01T00:28:00 ...\n",
       "Dimensions without coordinates: dim"
      ]
     },
     "execution_count": 8,
     "metadata": {},
     "output_type": "execute_result"
    }
   ],
   "source": [
    "B_res = ds[\"B_NEC\"] - ds[\"B_NEC_MCO_SHA_2C\"]\\\n",
    "                    - ds[\"B_NEC_MMA_SHA_2C-Primary\"]\\\n",
    "                    - ds[\"B_NEC_MMA_SHA_2C-Secondary\"]\n",
    "B_res"
   ]
  },
  {
   "cell_type": "code",
   "execution_count": null,
   "metadata": {
    "scrolled": true
   },
   "outputs": [],
   "source": [
    "%matplotlib inline\n",
    "B_res[:,2].plot(x='Timestamp');"
   ]
  },
  {
   "cell_type": "code",
   "execution_count": null,
   "metadata": {},
   "outputs": [],
   "source": []
  }
 ],
 "metadata": {
  "kernelspec": {
   "display_name": "Python 3",
   "language": "python",
   "name": "python3"
  },
  "language_info": {
   "codemirror_mode": {
    "name": "ipython",
    "version": 3
   },
   "file_extension": ".py",
   "mimetype": "text/x-python",
   "name": "python",
   "nbconvert_exporter": "python",
   "pygments_lexer": "ipython3",
   "version": "3.5.5"
  }
 },
 "nbformat": 4,
 "nbformat_minor": 2
}
