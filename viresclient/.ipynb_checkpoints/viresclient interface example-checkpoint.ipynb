{
 "cells": [
  {
   "cell_type": "code",
   "execution_count": 1,
   "metadata": {},
   "outputs": [],
   "source": [
    "import viresclient as vc\n",
    "import datetime as dt"
   ]
  },
  {
   "cell_type": "code",
   "execution_count": 2,
   "metadata": {},
   "outputs": [],
   "source": [
    "url = \"https://staging.viresdisc.vires.services/openows\"\n",
    "user = \"some username\"\n",
    "password = \"some password\"\n",
    "cr = vc.ClientRequest(url,user,password)\n",
    "\n",
    "\n",
    "spacecraft = \"Alpha\"\n",
    "collections = [\"SW_OPER_MAGA_LR_1B\"]\n",
    "cr.SetCollections(spacecraft, collections)\n",
    "# cr.SetCollections(spacecraft=\"Alpha\", collections=[\"SW_OPER_MAGA_LR_1B\",\"OMNI_1min\"])\n",
    "\n",
    "\n",
    "measurements = [\"B_NEC\"]\n",
    "models = [\"CHAOS-6-Core\"]\n",
    "auxiliaries = [\"Kp\"]\n",
    "cr.SetProducts(measurements, models, auxiliaries)\n",
    "\n",
    "cr.RangeFilter(\"Kp\",0,30)\n",
    "\n",
    "\n",
    "\n",
    "# cr.query_avail_collections()\n",
    "# # returns available datasets, e.g. MAGx_LR_1B\n",
    "\n",
    "# cr.query_avail_products()\n",
    "# # returns available products, e.g. measurements: B_NEC, F, ..\n",
    "# #                                  models: CHAOS-6-Core, MCO_2C\n",
    "# #                                  auxiliary: Kp, IMF_BZ_GSM, SunZenithAngle, .."
   ]
  },
  {
   "cell_type": "code",
   "execution_count": 3,
   "metadata": {},
   "outputs": [
    {
     "name": "stdout",
     "output_type": "stream",
     "text": [
      "ACCEPTED\n",
      "STARTED\n",
      "FINISHED\n"
     ]
    }
   ],
   "source": [
    "start_time = dt.datetime(2016,1,1)\n",
    "end_time = start_time + dt.timedelta(hours=1)\n",
    "data = cr.get_between(start_time,end_time)"
   ]
  },
  {
   "cell_type": "code",
   "execution_count": 4,
   "metadata": {},
   "outputs": [
    {
     "data": {
      "text/plain": [
       "{'B_NEC': array([], dtype=float64),\n",
       " 'B_NEC_CHAOS-6-Core': array([], dtype=float64),\n",
       " 'B_NEC_res_CHAOS-6-Core': array([], dtype=float64),\n",
       " 'Kp': array([], dtype=float64),\n",
       " 'Latitude': array([], dtype=float64),\n",
       " 'Longitude': array([], dtype=float64),\n",
       " 'Radius': array([], dtype=float64),\n",
       " 'Spacecraft': array([], dtype=float64),\n",
       " 'Timestamp': array([], dtype=float64)}"
      ]
     },
     "execution_count": 4,
     "metadata": {},
     "output_type": "execute_result"
    }
   ],
   "source": [
    "data"
   ]
  },
  {
   "cell_type": "code",
   "execution_count": null,
   "metadata": {},
   "outputs": [],
   "source": []
  }
 ],
 "metadata": {
  "kernelspec": {
   "display_name": "Python 2",
   "language": "python",
   "name": "python2"
  },
  "language_info": {
   "codemirror_mode": {
    "name": "ipython",
    "version": 2
   },
   "file_extension": ".py",
   "mimetype": "text/x-python",
   "name": "python",
   "nbconvert_exporter": "python",
   "pygments_lexer": "ipython2",
   "version": "2.7.15"
  }
 },
 "nbformat": 4,
 "nbformat_minor": 2
}
