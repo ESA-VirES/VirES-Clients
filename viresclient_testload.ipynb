{
 "cells": [
  {
   "cell_type": "code",
   "execution_count": 1,
   "metadata": {
    "scrolled": true
   },
   "outputs": [
    {
     "name": "stdout",
     "output_type": "stream",
     "text": [
      "Waiting on server...\n",
      "ACCEPTED\n",
      "STARTED\n",
      "FINISHED\n",
      "Request complete. Loading file...\n",
      "{'B_NEC': array([[ -1580.9623, -10494.5508, -45720.5906],\n",
      "       [ -1607.6396, -10493.7263, -45717.1207],\n",
      "       [ -1633.5736, -10492.0916, -45713.8137],\n",
      "       [ -1658.6697, -10490.6446, -45710.4639],\n",
      "       [ -1683.4771, -10487.4851, -45707.488 ]]),\n",
      " 'B_NEC_AMPS': array([[-275.512839  ,    8.7198186 ,   18.488635  ],\n",
      "       [-275.94239   ,    7.98945049,   17.8043957 ],\n",
      "       [-276.357371  ,    7.26346543,   17.1242364 ],\n",
      "       [-276.757379  ,    6.5412596 ,   16.4481763 ],\n",
      "       [-277.142499  ,    5.8231603 ,   15.776152  ]]),\n",
      " 'B_NEC_CHAOS-6-Core': array([[ -1576.34574, -10310.5609 , -45643.9315 ],\n",
      "       [ -1602.50432, -10308.5647 , -45641.1255 ],\n",
      "       [ -1628.69464, -10306.5089 , -45638.2939 ],\n",
      "       [ -1654.91708, -10304.3929 , -45635.4367 ],\n",
      "       [ -1681.17212, -10302.2166 , -45632.5538 ]]),\n",
      " 'B_NEC_MCO_SHA_2C': array([[ -1576.19723, -10309.4202 , -45641.906  ],\n",
      "       [ -1602.35292, -10307.4323 , -45639.1063 ],\n",
      "       [ -1628.54034, -10305.3852 , -45636.2808 ],\n",
      "       [ -1654.75988, -10303.2783 , -45633.4295 ],\n",
      "       [ -1681.012  , -10301.1114 , -45630.5522 ]]),\n",
      " 'B_NEC_MMA_SHA_2C-Primary': array([[-34.2109781 ,   8.16203091, -77.6008215 ],\n",
      "       [-34.1333581 ,   8.17254282, -77.6703344 ],\n",
      "       [-34.0555647 ,   8.18308477, -77.7397974 ],\n",
      "       [-33.9775979 ,   8.19365705, -77.8092099 ],\n",
      "       [-33.8994571 ,   8.20426002, -77.8785718 ]]),\n",
      " 'B_NEC_MMA_SHA_2C-Secondary': array([[-5.75402426,  5.72596907, 38.5825782 ],\n",
      "       [-5.73356255,  5.72637792, 38.5981056 ],\n",
      "       [-5.71308183,  5.72678153, 38.6135942 ],\n",
      "       [-5.69258196,  5.72717991, 38.6290438 ],\n",
      "       [-5.67206271,  5.72757304, 38.6444544 ]]),\n",
      " 'F': array([46935.809 , 46933.1589, 46930.4842, 46927.7858, 46925.0691]),\n",
      " 'F_CHAOS-6-Core': array([46820.5192, 46818.2322, 46815.923 , 46813.5915, 46811.2376]),\n",
      " 'F_MCO_SHA_2C': array([46818.2884, 46816.0092, 46813.7077, 46811.3839, 46809.0375]),\n",
      " 'F_MMA_SHA_2C-Primary': array([85.1991624, 85.2323732, 85.2655878, 85.2988061, 85.3320281]),\n",
      " 'F_MMA_SHA_2C-Secondary': array([39.4272857, 39.4395601, 39.4518059, 39.4640229, 39.4762111]),\n",
      " 'IMF_BZ_GSM': array([-14, -14, -14, -14, -14]),\n",
      " 'Kp': array([57, 60, 60, 60, 60]),\n",
      " 'Latitude': array([-72.4992246, -72.5623961, -72.6255622, -72.6887227, -72.7518776]),\n",
      " 'Longitude': array([92.7939676, 92.8226618, 92.8515876, 92.8807474, 92.9101438]),\n",
      " 'Radius': array([6833853.1 , 6833854.29, 6833855.47, 6833856.64, 6833857.81]),\n",
      " 'Spacecraft': array(['A', 'A', 'A', 'A', 'A'], dtype='<U1'),\n",
      " 'Timestamp': array([5844.        , 5844.00001157, 5844.00002315, 5844.00003472,\n",
      "       5844.0000463 ])}\n"
     ]
    }
   ],
   "source": [
    "import viresclient\n",
    "\n",
    "import datetime as dt\n",
    "import matplotlib.pyplot as plt\n",
    "from pprint import pprint\n",
    "\n",
    "%matplotlib inline\n",
    "\n",
    "url = \"some vires url\"\n",
    "user = \"some username\"\n",
    "password = \"some password\"\n",
    "request = viresclient.ClientRequest(url,user,password)\n",
    "\n",
    "spacecraft = \"Alpha\"\n",
    "collections = [\"SW_OPER_MAGA_LR_1B\"]\n",
    "request.set_collections(spacecraft, collections)\n",
    "\n",
    "measurements = [\"B_NEC\",\"F\"]\n",
    "models = [\"CHAOS-6-Core\",\"MCO_SHA_2C\",\"MMA_SHA_2C-Primary\",\"MMA_SHA_2C-Secondary\"]\n",
    "auxiliaries = [\"Kp\",\"IMF_BZ_GSM\",\"B_NEC_AMPS\"]\n",
    "request.set_products(measurements, models, auxiliaries)\n",
    "\n",
    "request.set_range_filter(\"Kp\",0,100)\n",
    "\n",
    "start_time = dt.datetime(2016,1,1)\n",
    "end_time = start_time + dt.timedelta(seconds=5)\n",
    "\n",
    "data1 = request.get_between(start_time,end_time)\n",
    "pprint(data1)"
   ]
  },
  {
   "cell_type": "code",
   "execution_count": null,
   "metadata": {},
   "outputs": [],
   "source": []
  }
 ],
 "metadata": {
  "kernelspec": {
   "display_name": "Python 3",
   "language": "python",
   "name": "python3"
  },
  "language_info": {
   "codemirror_mode": {
    "name": "ipython",
    "version": 3
   },
   "file_extension": ".py",
   "mimetype": "text/x-python",
   "name": "python",
   "nbconvert_exporter": "python",
   "pygments_lexer": "ipython3",
   "version": "3.5.5"
  }
 },
 "nbformat": 4,
 "nbformat_minor": 2
}
