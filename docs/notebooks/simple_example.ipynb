{
 "cells": [
  {
   "cell_type": "markdown",
   "metadata": {},
   "source": [
    "# General example"
   ]
  },
  {
   "cell_type": "markdown",
   "metadata": {},
   "source": [
    "### Choose and download data\n",
    "\n",
    "Select a combination of variables and fetch data from one day.\n",
    "\n",
    "Resample to one measurement per 10s; filter for the Northern Hemisphere."
   ]
  },
  {
   "cell_type": "code",
   "execution_count": 1,
   "metadata": {},
   "outputs": [
    {
     "name": "stderr",
     "output_type": "stream",
     "text": [
      "[1/1] Processing:  100%|██████████|  [ Elapsed: 00:01, Remaining: 00:00 ]\n",
      "      Downloading: 100%|██████████|  [ Elapsed: 00:00, Remaining: 00:00 ] (0.766MB)\n"
     ]
    }
   ],
   "source": [
    "from viresclient import SwarmRequest\n",
    "import datetime as dt\n",
    "\n",
    "request = SwarmRequest()\n",
    "\n",
    "request.set_collection(\"SW_OPER_MAGA_LR_1B\")\n",
    "\n",
    "request.set_products(measurements=[\"F\",\"B_NEC\"],\n",
    "                     models=[\"MCO_SHA_2C\", \"MMA_SHA_2C-Primary\", \"MMA_SHA_2C-Secondary\"],\n",
    "                     auxiliaries=[\"QDLat\", \"QDLon\"],\n",
    "                     residuals=False,\n",
    "                     sampling_step=\"PT10S\")\n",
    "\n",
    "request.set_range_filter(parameter=\"Latitude\",\n",
    "                         minimum=0,\n",
    "                         maximum=90)\n",
    "\n",
    "data = request.get_between(start_time=dt.datetime(2016,1,1),\n",
    "                           end_time=dt.datetime(2016,1,2))"
   ]
  },
  {
   "cell_type": "markdown",
   "metadata": {},
   "source": [
    "### Save the data directly\n",
    "\n",
    "You can save the generated data file directly then open it using other software."
   ]
  },
  {
   "cell_type": "code",
   "execution_count": 2,
   "metadata": {},
   "outputs": [
    {
     "name": "stdout",
     "output_type": "stream",
     "text": [
      "Data written to testfile.cdf\n"
     ]
    }
   ],
   "source": [
    "data.to_file('testfile.cdf')"
   ]
  },
  {
   "cell_type": "markdown",
   "metadata": {},
   "source": [
    "### Convert to a pandas DataFrame\n",
    "\n",
    "[pandas](https://pandas.pydata.org/pandas-docs/stable/overview.html) offers many useful features for working with 2D labelled time series data."
   ]
  },
  {
   "cell_type": "code",
   "execution_count": 3,
   "metadata": {},
   "outputs": [
    {
     "data": {
      "text/html": [
       "<div>\n",
       "<style scoped>\n",
       "    .dataframe tbody tr th:only-of-type {\n",
       "        vertical-align: middle;\n",
       "    }\n",
       "\n",
       "    .dataframe tbody tr th {\n",
       "        vertical-align: top;\n",
       "    }\n",
       "\n",
       "    .dataframe thead th {\n",
       "        text-align: right;\n",
       "    }\n",
       "</style>\n",
       "<table border=\"1\" class=\"dataframe\">\n",
       "  <thead>\n",
       "    <tr style=\"text-align: right;\">\n",
       "      <th></th>\n",
       "      <th>Spacecraft</th>\n",
       "      <th>Latitude</th>\n",
       "      <th>Longitude</th>\n",
       "      <th>Radius</th>\n",
       "      <th>F</th>\n",
       "      <th>F_MCO_SHA_2C</th>\n",
       "      <th>F_MMA_SHA_2C-Primary</th>\n",
       "      <th>F_MMA_SHA_2C-Secondary</th>\n",
       "      <th>B_NEC</th>\n",
       "      <th>B_NEC_MCO_SHA_2C</th>\n",
       "      <th>B_NEC_MMA_SHA_2C-Primary</th>\n",
       "      <th>B_NEC_MMA_SHA_2C-Secondary</th>\n",
       "      <th>QDLat</th>\n",
       "      <th>QDLon</th>\n",
       "    </tr>\n",
       "  </thead>\n",
       "  <tbody>\n",
       "    <tr>\n",
       "      <th>2016-01-01 00:28:00</th>\n",
       "      <td>A</td>\n",
       "      <td>0.197610</td>\n",
       "      <td>-102.681841</td>\n",
       "      <td>6828390.60</td>\n",
       "      <td>24630.6312</td>\n",
       "      <td>24795.742996</td>\n",
       "      <td>127.134287</td>\n",
       "      <td>33.517576</td>\n",
       "      <td>[23432.3208, 2928.6274000000003, 7000.6948]</td>\n",
       "      <td>[23604.765693069177, 2930.2688321265728, 7004....</td>\n",
       "      <td>[-125.78890509740265, -5.302191425378982, 17.6...</td>\n",
       "      <td>[-32.5031562033331, -1.386212193226803, -8.065...</td>\n",
       "      <td>8.425159</td>\n",
       "      <td>-30.812750</td>\n",
       "    </tr>\n",
       "    <tr>\n",
       "      <th>2016-01-01 00:28:10</th>\n",
       "      <td>A</td>\n",
       "      <td>0.838158</td>\n",
       "      <td>-102.693946</td>\n",
       "      <td>6828288.87</td>\n",
       "      <td>24808.1073</td>\n",
       "      <td>24971.853392</td>\n",
       "      <td>127.197315</td>\n",
       "      <td>33.718966</td>\n",
       "      <td>[23451.1801, 2899.534, 7554.4035]</td>\n",
       "      <td>[23623.327008268625, 2901.392633804825, 7557.3...</td>\n",
       "      <td>[-125.60166979171441, -5.252627485291866, 19.3...</td>\n",
       "      <td>[-32.494418615582255, -1.3566476193699097, -8....</td>\n",
       "      <td>9.068963</td>\n",
       "      <td>-30.902256</td>\n",
       "    </tr>\n",
       "    <tr>\n",
       "      <th>2016-01-01 00:28:20</th>\n",
       "      <td>A</td>\n",
       "      <td>1.478724</td>\n",
       "      <td>-102.706041</td>\n",
       "      <td>6828186.32</td>\n",
       "      <td>24993.3709</td>\n",
       "      <td>25155.643730</td>\n",
       "      <td>127.257710</td>\n",
       "      <td>33.932493</td>\n",
       "      <td>[23465.812100000003, 2871.8025000000002, 8109....</td>\n",
       "      <td>[23637.6657342565, 2873.1207904780367, 8112.48...</td>\n",
       "      <td>[-125.38835978948227, -5.203014637815361, 21.1...</td>\n",
       "      <td>[-32.47777846302375, -1.3273711242288924, -9.7...</td>\n",
       "      <td>9.713511</td>\n",
       "      <td>-30.990784</td>\n",
       "    </tr>\n",
       "    <tr>\n",
       "      <th>2016-01-01 00:28:30</th>\n",
       "      <td>A</td>\n",
       "      <td>2.119308</td>\n",
       "      <td>-102.718118</td>\n",
       "      <td>6828082.97</td>\n",
       "      <td>25186.2207</td>\n",
       "      <td>25346.943757</td>\n",
       "      <td>127.315462</td>\n",
       "      <td>34.157878</td>\n",
       "      <td>[23476.3596, 2844.1066, 8666.6296]</td>\n",
       "      <td>[23647.710917671076, 2845.447078036548, 8669.2...</td>\n",
       "      <td>[-125.14900320901313, -5.153357531132542, 22.8...</td>\n",
       "      <td>[-32.45318157347463, -1.2983807863969918, -10....</td>\n",
       "      <td>10.358768</td>\n",
       "      <td>-31.078363</td>\n",
       "    </tr>\n",
       "    <tr>\n",
       "      <th>2016-01-01 00:28:40</th>\n",
       "      <td>A</td>\n",
       "      <td>2.759911</td>\n",
       "      <td>-102.730169</td>\n",
       "      <td>6827978.83</td>\n",
       "      <td>25386.4755</td>\n",
       "      <td>25545.573072</td>\n",
       "      <td>127.370566</td>\n",
       "      <td>34.394821</td>\n",
       "      <td>[23482.5073, 2817.0387, 9225.1501]</td>\n",
       "      <td>[23653.3949273992, 2818.3663458182045, 9227.67...</td>\n",
       "      <td>[-124.88363654458195, -5.103660714780139, 24.5...</td>\n",
       "      <td>[-32.42057710492788, -1.2696744882122784, -11....</td>\n",
       "      <td>11.004701</td>\n",
       "      <td>-31.165012</td>\n",
       "    </tr>\n",
       "  </tbody>\n",
       "</table>\n",
       "</div>"
      ],
      "text/plain": [
       "                    Spacecraft  Latitude   Longitude      Radius           F  \\\n",
       "2016-01-01 00:28:00          A  0.197610 -102.681841  6828390.60  24630.6312   \n",
       "2016-01-01 00:28:10          A  0.838158 -102.693946  6828288.87  24808.1073   \n",
       "2016-01-01 00:28:20          A  1.478724 -102.706041  6828186.32  24993.3709   \n",
       "2016-01-01 00:28:30          A  2.119308 -102.718118  6828082.97  25186.2207   \n",
       "2016-01-01 00:28:40          A  2.759911 -102.730169  6827978.83  25386.4755   \n",
       "\n",
       "                     F_MCO_SHA_2C  F_MMA_SHA_2C-Primary  \\\n",
       "2016-01-01 00:28:00  24795.742996            127.134287   \n",
       "2016-01-01 00:28:10  24971.853392            127.197315   \n",
       "2016-01-01 00:28:20  25155.643730            127.257710   \n",
       "2016-01-01 00:28:30  25346.943757            127.315462   \n",
       "2016-01-01 00:28:40  25545.573072            127.370566   \n",
       "\n",
       "                     F_MMA_SHA_2C-Secondary  \\\n",
       "2016-01-01 00:28:00               33.517576   \n",
       "2016-01-01 00:28:10               33.718966   \n",
       "2016-01-01 00:28:20               33.932493   \n",
       "2016-01-01 00:28:30               34.157878   \n",
       "2016-01-01 00:28:40               34.394821   \n",
       "\n",
       "                                                                 B_NEC  \\\n",
       "2016-01-01 00:28:00        [23432.3208, 2928.6274000000003, 7000.6948]   \n",
       "2016-01-01 00:28:10                  [23451.1801, 2899.534, 7554.4035]   \n",
       "2016-01-01 00:28:20  [23465.812100000003, 2871.8025000000002, 8109....   \n",
       "2016-01-01 00:28:30                 [23476.3596, 2844.1066, 8666.6296]   \n",
       "2016-01-01 00:28:40                 [23482.5073, 2817.0387, 9225.1501]   \n",
       "\n",
       "                                                      B_NEC_MCO_SHA_2C  \\\n",
       "2016-01-01 00:28:00  [23604.765693069177, 2930.2688321265728, 7004....   \n",
       "2016-01-01 00:28:10  [23623.327008268625, 2901.392633804825, 7557.3...   \n",
       "2016-01-01 00:28:20  [23637.6657342565, 2873.1207904780367, 8112.48...   \n",
       "2016-01-01 00:28:30  [23647.710917671076, 2845.447078036548, 8669.2...   \n",
       "2016-01-01 00:28:40  [23653.3949273992, 2818.3663458182045, 9227.67...   \n",
       "\n",
       "                                              B_NEC_MMA_SHA_2C-Primary  \\\n",
       "2016-01-01 00:28:00  [-125.78890509740265, -5.302191425378982, 17.6...   \n",
       "2016-01-01 00:28:10  [-125.60166979171441, -5.252627485291866, 19.3...   \n",
       "2016-01-01 00:28:20  [-125.38835978948227, -5.203014637815361, 21.1...   \n",
       "2016-01-01 00:28:30  [-125.14900320901313, -5.153357531132542, 22.8...   \n",
       "2016-01-01 00:28:40  [-124.88363654458195, -5.103660714780139, 24.5...   \n",
       "\n",
       "                                            B_NEC_MMA_SHA_2C-Secondary  \\\n",
       "2016-01-01 00:28:00  [-32.5031562033331, -1.386212193226803, -8.065...   \n",
       "2016-01-01 00:28:10  [-32.494418615582255, -1.3566476193699097, -8....   \n",
       "2016-01-01 00:28:20  [-32.47777846302375, -1.3273711242288924, -9.7...   \n",
       "2016-01-01 00:28:30  [-32.45318157347463, -1.2983807863969918, -10....   \n",
       "2016-01-01 00:28:40  [-32.42057710492788, -1.2696744882122784, -11....   \n",
       "\n",
       "                         QDLat      QDLon  \n",
       "2016-01-01 00:28:00   8.425159 -30.812750  \n",
       "2016-01-01 00:28:10   9.068963 -30.902256  \n",
       "2016-01-01 00:28:20   9.713511 -30.990784  \n",
       "2016-01-01 00:28:30  10.358768 -31.078363  \n",
       "2016-01-01 00:28:40  11.004701 -31.165012  "
      ]
     },
     "execution_count": 3,
     "metadata": {},
     "output_type": "execute_result"
    }
   ],
   "source": [
    "df = data.as_dataframe()\n",
    "df.head()"
   ]
  },
  {
   "cell_type": "markdown",
   "metadata": {},
   "source": [
    "NB: Some of the columns contain vectors (e.g. B_NEC). Because of the way pandas works, this is a bad way of organising the data - `df[\"B_NEC\"].values` is actually an array of arrays. It is better to \"expand\" the columns above using the `expand` keyword argument:"
   ]
  },
  {
   "cell_type": "code",
   "execution_count": 4,
   "metadata": {},
   "outputs": [
    {
     "data": {
      "text/html": [
       "<div>\n",
       "<style scoped>\n",
       "    .dataframe tbody tr th:only-of-type {\n",
       "        vertical-align: middle;\n",
       "    }\n",
       "\n",
       "    .dataframe tbody tr th {\n",
       "        vertical-align: top;\n",
       "    }\n",
       "\n",
       "    .dataframe thead th {\n",
       "        text-align: right;\n",
       "    }\n",
       "</style>\n",
       "<table border=\"1\" class=\"dataframe\">\n",
       "  <thead>\n",
       "    <tr style=\"text-align: right;\">\n",
       "      <th></th>\n",
       "      <th>Spacecraft</th>\n",
       "      <th>Latitude</th>\n",
       "      <th>Longitude</th>\n",
       "      <th>Radius</th>\n",
       "      <th>F</th>\n",
       "      <th>F_MCO_SHA_2C</th>\n",
       "      <th>F_MMA_SHA_2C-Primary</th>\n",
       "      <th>F_MMA_SHA_2C-Secondary</th>\n",
       "      <th>B_NEC_N</th>\n",
       "      <th>B_NEC_E</th>\n",
       "      <th>...</th>\n",
       "      <th>B_NEC_MCO_SHA_2C_E</th>\n",
       "      <th>B_NEC_MCO_SHA_2C_C</th>\n",
       "      <th>B_NEC_MMA_SHA_2C-Primary_N</th>\n",
       "      <th>B_NEC_MMA_SHA_2C-Primary_E</th>\n",
       "      <th>B_NEC_MMA_SHA_2C-Primary_C</th>\n",
       "      <th>B_NEC_MMA_SHA_2C-Secondary_N</th>\n",
       "      <th>B_NEC_MMA_SHA_2C-Secondary_E</th>\n",
       "      <th>B_NEC_MMA_SHA_2C-Secondary_C</th>\n",
       "      <th>QDLat</th>\n",
       "      <th>QDLon</th>\n",
       "    </tr>\n",
       "  </thead>\n",
       "  <tbody>\n",
       "    <tr>\n",
       "      <th>2016-01-01 00:28:00</th>\n",
       "      <td>A</td>\n",
       "      <td>0.197610</td>\n",
       "      <td>-102.681841</td>\n",
       "      <td>6828390.60</td>\n",
       "      <td>24630.6312</td>\n",
       "      <td>24795.742996</td>\n",
       "      <td>127.134287</td>\n",
       "      <td>33.517576</td>\n",
       "      <td>23432.3208</td>\n",
       "      <td>2928.6274</td>\n",
       "      <td>...</td>\n",
       "      <td>2930.268832</td>\n",
       "      <td>7004.101076</td>\n",
       "      <td>-125.788905</td>\n",
       "      <td>-5.302191</td>\n",
       "      <td>17.668192</td>\n",
       "      <td>-32.503156</td>\n",
       "      <td>-1.386212</td>\n",
       "      <td>-8.065428</td>\n",
       "      <td>8.425159</td>\n",
       "      <td>-30.812750</td>\n",
       "    </tr>\n",
       "    <tr>\n",
       "      <th>2016-01-01 00:28:10</th>\n",
       "      <td>A</td>\n",
       "      <td>0.838158</td>\n",
       "      <td>-102.693946</td>\n",
       "      <td>6828288.87</td>\n",
       "      <td>24808.1073</td>\n",
       "      <td>24971.853392</td>\n",
       "      <td>127.197315</td>\n",
       "      <td>33.718966</td>\n",
       "      <td>23451.1801</td>\n",
       "      <td>2899.5340</td>\n",
       "      <td>...</td>\n",
       "      <td>2901.392634</td>\n",
       "      <td>7557.367509</td>\n",
       "      <td>-125.601670</td>\n",
       "      <td>-5.252627</td>\n",
       "      <td>19.385239</td>\n",
       "      <td>-32.494419</td>\n",
       "      <td>-1.356648</td>\n",
       "      <td>-8.901737</td>\n",
       "      <td>9.068963</td>\n",
       "      <td>-30.902256</td>\n",
       "    </tr>\n",
       "    <tr>\n",
       "      <th>2016-01-01 00:28:20</th>\n",
       "      <td>A</td>\n",
       "      <td>1.478724</td>\n",
       "      <td>-102.706041</td>\n",
       "      <td>6828186.32</td>\n",
       "      <td>24993.3709</td>\n",
       "      <td>25155.643730</td>\n",
       "      <td>127.257710</td>\n",
       "      <td>33.932493</td>\n",
       "      <td>23465.8121</td>\n",
       "      <td>2871.8025</td>\n",
       "      <td>...</td>\n",
       "      <td>2873.120790</td>\n",
       "      <td>8112.480942</td>\n",
       "      <td>-125.388360</td>\n",
       "      <td>-5.203015</td>\n",
       "      <td>21.100059</td>\n",
       "      <td>-32.477778</td>\n",
       "      <td>-1.327371</td>\n",
       "      <td>-9.738896</td>\n",
       "      <td>9.713511</td>\n",
       "      <td>-30.990784</td>\n",
       "    </tr>\n",
       "    <tr>\n",
       "      <th>2016-01-01 00:28:30</th>\n",
       "      <td>A</td>\n",
       "      <td>2.119308</td>\n",
       "      <td>-102.718118</td>\n",
       "      <td>6828082.97</td>\n",
       "      <td>25186.2207</td>\n",
       "      <td>25346.943757</td>\n",
       "      <td>127.315462</td>\n",
       "      <td>34.157878</td>\n",
       "      <td>23476.3596</td>\n",
       "      <td>2844.1066</td>\n",
       "      <td>...</td>\n",
       "      <td>2845.447078</td>\n",
       "      <td>8669.299689</td>\n",
       "      <td>-125.149003</td>\n",
       "      <td>-5.153358</td>\n",
       "      <td>22.812207</td>\n",
       "      <td>-32.453182</td>\n",
       "      <td>-1.298381</td>\n",
       "      <td>-10.576666</td>\n",
       "      <td>10.358768</td>\n",
       "      <td>-31.078363</td>\n",
       "    </tr>\n",
       "    <tr>\n",
       "      <th>2016-01-01 00:28:40</th>\n",
       "      <td>A</td>\n",
       "      <td>2.759911</td>\n",
       "      <td>-102.730169</td>\n",
       "      <td>6827978.83</td>\n",
       "      <td>25386.4755</td>\n",
       "      <td>25545.573072</td>\n",
       "      <td>127.370566</td>\n",
       "      <td>34.394821</td>\n",
       "      <td>23482.5073</td>\n",
       "      <td>2817.0387</td>\n",
       "      <td>...</td>\n",
       "      <td>2818.366346</td>\n",
       "      <td>9227.677018</td>\n",
       "      <td>-124.883637</td>\n",
       "      <td>-5.103661</td>\n",
       "      <td>24.521235</td>\n",
       "      <td>-32.420577</td>\n",
       "      <td>-1.269674</td>\n",
       "      <td>-11.414808</td>\n",
       "      <td>11.004701</td>\n",
       "      <td>-31.165012</td>\n",
       "    </tr>\n",
       "  </tbody>\n",
       "</table>\n",
       "<p>5 rows × 22 columns</p>\n",
       "</div>"
      ],
      "text/plain": [
       "                    Spacecraft  Latitude   Longitude      Radius           F  \\\n",
       "2016-01-01 00:28:00          A  0.197610 -102.681841  6828390.60  24630.6312   \n",
       "2016-01-01 00:28:10          A  0.838158 -102.693946  6828288.87  24808.1073   \n",
       "2016-01-01 00:28:20          A  1.478724 -102.706041  6828186.32  24993.3709   \n",
       "2016-01-01 00:28:30          A  2.119308 -102.718118  6828082.97  25186.2207   \n",
       "2016-01-01 00:28:40          A  2.759911 -102.730169  6827978.83  25386.4755   \n",
       "\n",
       "                     F_MCO_SHA_2C  F_MMA_SHA_2C-Primary  \\\n",
       "2016-01-01 00:28:00  24795.742996            127.134287   \n",
       "2016-01-01 00:28:10  24971.853392            127.197315   \n",
       "2016-01-01 00:28:20  25155.643730            127.257710   \n",
       "2016-01-01 00:28:30  25346.943757            127.315462   \n",
       "2016-01-01 00:28:40  25545.573072            127.370566   \n",
       "\n",
       "                     F_MMA_SHA_2C-Secondary     B_NEC_N    B_NEC_E  ...  \\\n",
       "2016-01-01 00:28:00               33.517576  23432.3208  2928.6274  ...   \n",
       "2016-01-01 00:28:10               33.718966  23451.1801  2899.5340  ...   \n",
       "2016-01-01 00:28:20               33.932493  23465.8121  2871.8025  ...   \n",
       "2016-01-01 00:28:30               34.157878  23476.3596  2844.1066  ...   \n",
       "2016-01-01 00:28:40               34.394821  23482.5073  2817.0387  ...   \n",
       "\n",
       "                     B_NEC_MCO_SHA_2C_E  B_NEC_MCO_SHA_2C_C  \\\n",
       "2016-01-01 00:28:00         2930.268832         7004.101076   \n",
       "2016-01-01 00:28:10         2901.392634         7557.367509   \n",
       "2016-01-01 00:28:20         2873.120790         8112.480942   \n",
       "2016-01-01 00:28:30         2845.447078         8669.299689   \n",
       "2016-01-01 00:28:40         2818.366346         9227.677018   \n",
       "\n",
       "                     B_NEC_MMA_SHA_2C-Primary_N  B_NEC_MMA_SHA_2C-Primary_E  \\\n",
       "2016-01-01 00:28:00                 -125.788905                   -5.302191   \n",
       "2016-01-01 00:28:10                 -125.601670                   -5.252627   \n",
       "2016-01-01 00:28:20                 -125.388360                   -5.203015   \n",
       "2016-01-01 00:28:30                 -125.149003                   -5.153358   \n",
       "2016-01-01 00:28:40                 -124.883637                   -5.103661   \n",
       "\n",
       "                     B_NEC_MMA_SHA_2C-Primary_C  B_NEC_MMA_SHA_2C-Secondary_N  \\\n",
       "2016-01-01 00:28:00                   17.668192                    -32.503156   \n",
       "2016-01-01 00:28:10                   19.385239                    -32.494419   \n",
       "2016-01-01 00:28:20                   21.100059                    -32.477778   \n",
       "2016-01-01 00:28:30                   22.812207                    -32.453182   \n",
       "2016-01-01 00:28:40                   24.521235                    -32.420577   \n",
       "\n",
       "                     B_NEC_MMA_SHA_2C-Secondary_E  \\\n",
       "2016-01-01 00:28:00                     -1.386212   \n",
       "2016-01-01 00:28:10                     -1.356648   \n",
       "2016-01-01 00:28:20                     -1.327371   \n",
       "2016-01-01 00:28:30                     -1.298381   \n",
       "2016-01-01 00:28:40                     -1.269674   \n",
       "\n",
       "                     B_NEC_MMA_SHA_2C-Secondary_C      QDLat      QDLon  \n",
       "2016-01-01 00:28:00                     -8.065428   8.425159 -30.812750  \n",
       "2016-01-01 00:28:10                     -8.901737   9.068963 -30.902256  \n",
       "2016-01-01 00:28:20                     -9.738896   9.713511 -30.990784  \n",
       "2016-01-01 00:28:30                    -10.576666  10.358768 -31.078363  \n",
       "2016-01-01 00:28:40                    -11.414808  11.004701 -31.165012  \n",
       "\n",
       "[5 rows x 22 columns]"
      ]
     },
     "execution_count": 4,
     "metadata": {},
     "output_type": "execute_result"
    }
   ],
   "source": [
    "df = data.as_dataframe(expand=True)\n",
    "df.head()"
   ]
  },
  {
   "cell_type": "markdown",
   "metadata": {},
   "source": [
    "### Extract numpy arrays\n",
    "\n",
    "numpy arrays are accessible as properties of the dataframe:"
   ]
  },
  {
   "cell_type": "code",
   "execution_count": 5,
   "metadata": {},
   "outputs": [
    {
     "data": {
      "text/plain": [
       "array([23432.3208, 23451.1801, 23465.8121, ..., 19454.4269, 19271.3803,\n",
       "       19084.199 ])"
      ]
     },
     "execution_count": 5,
     "metadata": {},
     "output_type": "execute_result"
    }
   ],
   "source": [
    "df['B_NEC_N'].values"
   ]
  },
  {
   "cell_type": "code",
   "execution_count": 6,
   "metadata": {},
   "outputs": [
    {
     "data": {
      "text/plain": [
       "array([[23432.3208,  2928.6274,  7000.6948],\n",
       "       [23451.1801,  2899.534 ,  7554.4035],\n",
       "       [23465.8121,  2871.8025,  8109.7535],\n",
       "       ...,\n",
       "       [19454.4269,   824.8021, 32624.9088],\n",
       "       [19271.3803,   808.9134, 33094.2485],\n",
       "       [19084.199 ,   792.9848, 33559.0953]])"
      ]
     },
     "execution_count": 6,
     "metadata": {},
     "output_type": "execute_result"
    }
   ],
   "source": [
    "df[['B_NEC_N', 'B_NEC_E', 'B_NEC_C']].values"
   ]
  },
  {
   "cell_type": "markdown",
   "metadata": {},
   "source": [
    "Pandas dataframes are not so good when we have higher-dimensional data, hence the motivation to use xarray: <http://xarray.pydata.org/en/stable/faq.html#why-is-pandas-not-enough>"
   ]
  },
  {
   "cell_type": "markdown",
   "metadata": {},
   "source": [
    "### Convert to an xarray Dataset\n",
    "\n",
    "[xarray](http://xarray.pydata.org/en/stable/) extends the power of pandas to N-dimensional data but is more complex to work with."
   ]
  },
  {
   "cell_type": "code",
   "execution_count": 7,
   "metadata": {},
   "outputs": [
    {
     "data": {
      "text/plain": [
       "<xarray.Dataset>\n",
       "Dimensions:                     (Timestamp: 4256, dim: 3)\n",
       "Coordinates:\n",
       "  * Timestamp                   (Timestamp) datetime64[ns] 2016-01-01T00:28:00 ... 2016-01-01T23:59:50\n",
       "Dimensions without coordinates: dim\n",
       "Data variables:\n",
       "    Spacecraft                  (Timestamp) <U1 'A' 'A' 'A' 'A' ... 'A' 'A' 'A'\n",
       "    Latitude                    (Timestamp) float64 0.1976 0.8382 ... 30.46 31.1\n",
       "    Longitude                   (Timestamp) float64 -102.7 -102.7 ... -95.37\n",
       "    Radius                      (Timestamp) float64 6.828e+06 ... 6.823e+06\n",
       "    F                           (Timestamp) float64 2.463e+04 ... 3.861e+04\n",
       "    F_MCO_SHA_2C                (Timestamp) float64 2.48e+04 ... 3.861e+04\n",
       "    F_MMA_SHA_2C-Primary        (Timestamp) float64 127.1 127.2 ... 43.23 43.24\n",
       "    F_MMA_SHA_2C-Secondary      (Timestamp) float64 33.52 33.72 ... 4.576 4.604\n",
       "    B_NEC                       (Timestamp, dim) float64 2.343e+04 ... 3.356e+04\n",
       "    B_NEC_MCO_SHA_2C            (Timestamp, dim) float64 2.36e+04 ... 3.354e+04\n",
       "    B_NEC_MMA_SHA_2C-Primary    (Timestamp, dim) float64 -125.8 -5.302 ... 28.31\n",
       "    B_NEC_MMA_SHA_2C-Secondary  (Timestamp, dim) float64 -32.5 -1.386 ... -4.19\n",
       "    QDLat                       (Timestamp) float64 8.425 9.069 ... 40.18 40.81\n",
       "    QDLon                       (Timestamp) float64 -30.81 -30.9 ... -24.81\n",
       "Attributes:\n",
       "    Sources:         ['SW_OPER_MAGA_LR_1B_20160101T000000_20160101T235959_050...\n",
       "    MagneticModels:  ['MCO_SHA_2C = MCO_SHA_2C(max_degree=18,min_degree=1)', ...\n",
       "    RangeFilters:    ['Latitude:0,90']"
      ]
     },
     "execution_count": 7,
     "metadata": {},
     "output_type": "execute_result"
    }
   ],
   "source": [
    "ds = data.as_xarray()\n",
    "ds"
   ]
  },
  {
   "cell_type": "markdown",
   "metadata": {},
   "source": [
    "`ds` now contains an xarray `Dataset` which stores all the data variables with an associated \"coordinate\" of Timestamp. The dataset itself comprises `DataArray` objects:"
   ]
  },
  {
   "cell_type": "code",
   "execution_count": 8,
   "metadata": {},
   "outputs": [
    {
     "data": {
      "text/plain": [
       "<xarray.DataArray 'B_NEC' (Timestamp: 4256, dim: 3)>\n",
       "array([[23432.3208,  2928.6274,  7000.6948],\n",
       "       [23451.1801,  2899.534 ,  7554.4035],\n",
       "       [23465.8121,  2871.8025,  8109.7535],\n",
       "       ...,\n",
       "       [19454.4269,   824.8021, 32624.9088],\n",
       "       [19271.3803,   808.9134, 33094.2485],\n",
       "       [19084.199 ,   792.9848, 33559.0953]])\n",
       "Coordinates:\n",
       "  * Timestamp  (Timestamp) datetime64[ns] 2016-01-01T00:28:00 ... 2016-01-01T23:59:50\n",
       "Dimensions without coordinates: dim"
      ]
     },
     "execution_count": 8,
     "metadata": {},
     "output_type": "execute_result"
    }
   ],
   "source": [
    "ds[\"B_NEC\"]"
   ]
  },
  {
   "cell_type": "markdown",
   "metadata": {},
   "source": [
    "#### To extract numpy arrays:"
   ]
  },
  {
   "cell_type": "code",
   "execution_count": 9,
   "metadata": {},
   "outputs": [
    {
     "data": {
      "text/plain": [
       "array([[23432.3208,  2928.6274,  7000.6948],\n",
       "       [23451.1801,  2899.534 ,  7554.4035],\n",
       "       [23465.8121,  2871.8025,  8109.7535],\n",
       "       ...,\n",
       "       [19454.4269,   824.8021, 32624.9088],\n",
       "       [19271.3803,   808.9134, 33094.2485],\n",
       "       [19084.199 ,   792.9848, 33559.0953]])"
      ]
     },
     "execution_count": 9,
     "metadata": {},
     "output_type": "execute_result"
    }
   ],
   "source": [
    "ds[\"B_NEC\"].values"
   ]
  },
  {
   "cell_type": "code",
   "execution_count": 10,
   "metadata": {},
   "outputs": [
    {
     "data": {
      "text/plain": [
       "(array([23432.3208, 23451.1801, 23465.8121, ..., 19454.4269, 19271.3803,\n",
       "        19084.199 ]),\n",
       " array([2928.6274, 2899.534 , 2871.8025, ...,  824.8021,  808.9134,\n",
       "         792.9848]),\n",
       " array([ 7000.6948,  7554.4035,  8109.7535, ..., 32624.9088, 33094.2485,\n",
       "        33559.0953]))"
      ]
     },
     "execution_count": 10,
     "metadata": {},
     "output_type": "execute_result"
    }
   ],
   "source": [
    "X,Y,Z = (ds[\"B_NEC\"][:,i].values for i in (0,1,2))\n",
    "X,Y,Z"
   ]
  },
  {
   "cell_type": "markdown",
   "metadata": {},
   "source": [
    "### Work on xarray objects directly\n",
    "\n",
    "Calculate the custom residual $B_{res} = B_{obs} - B_{MCO} - B_{MMA}$ and plot the Z component against time. NB: It is possible to also calculate this residual on the server directly."
   ]
  },
  {
   "cell_type": "code",
   "execution_count": 11,
   "metadata": {},
   "outputs": [
    {
     "data": {
      "text/plain": [
       "<xarray.DataArray (Timestamp: 4256, dim: 3)>\n",
       "array([[-14.152832,   5.046971, -13.00904 ],\n",
       "       [-14.05082 ,   4.750641, -13.44751 ],\n",
       "       [-13.987496,   5.212095, -14.088606],\n",
       "       ...,\n",
       "       [ -0.065038,  -2.56282 ,  -3.695835],\n",
       "       [  0.583051,  -3.247   ,  -4.246418],\n",
       "       [  1.325767,  -4.054801,  -4.315355]])\n",
       "Coordinates:\n",
       "  * Timestamp  (Timestamp) datetime64[ns] 2016-01-01T00:28:00 ... 2016-01-01T23:59:50\n",
       "Dimensions without coordinates: dim"
      ]
     },
     "execution_count": 11,
     "metadata": {},
     "output_type": "execute_result"
    }
   ],
   "source": [
    "B_res = ds[\"B_NEC\"] - ds[\"B_NEC_MCO_SHA_2C\"]\\\n",
    "                    - ds[\"B_NEC_MMA_SHA_2C-Primary\"]\\\n",
    "                    - ds[\"B_NEC_MMA_SHA_2C-Secondary\"]\n",
    "B_res"
   ]
  },
  {
   "cell_type": "code",
   "execution_count": null,
   "metadata": {
    "scrolled": true
   },
   "outputs": [],
   "source": [
    "%matplotlib inline\n",
    "B_res[:,2].plot(x='Timestamp');"
   ]
  }
 ],
 "metadata": {
  "kernelspec": {
   "display_name": "Python 3",
   "language": "python",
   "name": "python3"
  },
  "language_info": {
   "codemirror_mode": {
    "name": "ipython",
    "version": 3
   },
   "file_extension": ".py",
   "mimetype": "text/x-python",
   "name": "python",
   "nbconvert_exporter": "python",
   "pygments_lexer": "ipython3",
   "version": "3.7.4"
  }
 },
 "nbformat": 4,
 "nbformat_minor": 4
}
